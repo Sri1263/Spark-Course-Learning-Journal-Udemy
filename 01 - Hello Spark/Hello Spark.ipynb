{
 "cells": [
  {
   "cell_type": "code",
   "execution_count": 1,
   "metadata": {},
   "outputs": [
    {
     "name": "stdout",
     "output_type": "stream",
     "text": [
      "+--------+------+\n",
      "|Language| Users|\n",
      "+--------+------+\n",
      "|    Java| 20000|\n",
      "|  Python|100000|\n",
      "|   Scala|  3000|\n",
      "+--------+------+\n",
      "\n"
     ]
    }
   ],
   "source": [
    "from pyspark.sql import *\n",
    "\n",
    "spark = SparkSession.builder \\\n",
    "                            .appName(\"HelloSpark\") \\\n",
    "                            .master(\"local[2]\") \\\n",
    "                            .getOrCreate()\n",
    "                            # .config(\"spark.driver.memory\", \"4g\") \\\n",
    "\n",
    "data_list = [(\"Java\", 20000), (\"Python\", 100000), (\"Scala\", 3000)]\n",
    "df = spark.createDataFrame(data_list, [\"Language\", \"Users\"])\n",
    "df.show()\n"
   ]
  }
 ],
 "metadata": {
  "kernelspec": {
   "display_name": ".venv",
   "language": "python",
   "name": "python3"
  },
  "language_info": {
   "codemirror_mode": {
    "name": "ipython",
    "version": 3
   },
   "file_extension": ".py",
   "mimetype": "text/x-python",
   "name": "python",
   "nbconvert_exporter": "python",
   "pygments_lexer": "ipython3",
   "version": "3.10.11"
  }
 },
 "nbformat": 4,
 "nbformat_minor": 2
}
