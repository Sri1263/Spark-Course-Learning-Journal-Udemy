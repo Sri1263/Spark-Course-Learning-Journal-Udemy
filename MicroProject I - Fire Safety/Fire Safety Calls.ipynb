{
 "cells": [
  {
   "cell_type": "code",
   "execution_count": 1,
   "metadata": {},
   "outputs": [],
   "source": [
    "from pyspark.sql import *\n",
    "\n",
    "spark = SparkSession.builder \\\n",
    "                            .appName(\"HelloSpark\") \\\n",
    "                            .master(\"local[2]\") \\\n",
    "                            .getOrCreate()"
   ]
  },
  {
   "cell_type": "code",
   "execution_count": 2,
   "metadata": {
    "application/vnd.databricks.v1+cell": {
     "cellMetadata": {
      "byteLimit": 2048000,
      "rowLimit": 10000
     },
     "inputWidgets": {},
     "nuid": "ddc26763-6641-4297-b62a-8fa380db4287",
     "showTitle": false,
     "tableResultSettingsMap": {},
     "title": ""
    },
    "jupyter": {
     "outputs_hidden": true
    }
   },
   "outputs": [
    {
     "name": "stdout",
     "output_type": "stream",
     "text": [
      "+-----------+-------+---------------+----------------+----------+----------+--------------------+--------------------+--------------------+----+-------------------+---------+------------+----+------------+--------+--------------+--------+---------------+---------+--------+--------------------+--------------------+-------------------+---------------+--------------------+-------------+------------------+\n",
      "|        _c0|    _c1|            _c2|             _c3|       _c4|       _c5|                 _c6|                 _c7|                 _c8| _c9|               _c10|     _c11|        _c12|_c13|        _c14|    _c15|          _c16|    _c17|           _c18|     _c19|    _c20|                _c21|                _c22|               _c23|           _c24|                _c25|         _c26|              _c27|\n",
      "+-----------+-------+---------------+----------------+----------+----------+--------------------+--------------------+--------------------+----+-------------------+---------+------------+----+------------+--------+--------------+--------+---------------+---------+--------+--------------------+--------------------+-------------------+---------------+--------------------+-------------+------------------+\n",
      "|        _c0|    _c1|            _c2|             _c3|       _c4|       _c5|                 _c6|                 _c7|                 _c8| _c9|               _c10|     _c11|        _c12|_c13|        _c14|    _c15|          _c16|    _c17|           _c18|     _c19|    _c20|                _c21|                _c22|               _c23|           _c24|                _c25|         _c26|              _c27|\n",
      "|Call Number|Unit ID|Incident Number|        CallType| Call Date|Watch Date|Call Final Dispos...|      Available DtTm|             Address|City|Zipcode of Incident|Battalion|Station Area| Box|OrigPriority|Priority|Final Priority|ALS Unit|Call Type Group|NumAlarms|UnitType|Unit sequence in ...|Fire Prevention D...|Supervisor District|   Neighborhood|            Location|        RowID|             Delay|\n",
      "|   20110014|    M29|        2003234|Medical Incident|01/11/2002|01/10/2002|               Other|01/11/2002 01:58:...|   10TH ST/MARKET ST|  SF|              94103|      B02|          36|2338|           1|       1|             2|    true|           null|        1|   MEDIC|                   1|                   2|                  6|     Tenderloin|(37.7765408927183...|020110014-M29| 5.233333333333333|\n",
      "|   20110015|    M08|        2003233|Medical Incident|01/11/2002|01/10/2002|               Other|01/11/2002 02:10:...| 300 Block of 5TH ST|  SF|              94107|      B03|          08|2243|           1|       1|             2|    true|           null|        1|   MEDIC|                   1|                   3|                  6|South of Market|(37.7792841462441...|020110015-M08|3.0833333333333335|\n",
      "|   20110016|    B02|        2003235|  Structure Fire|01/11/2002|01/10/2002|               Other|01/11/2002 01:47:...|2000 Block of CAL...|  SF|              94109|      B04|          38|3362|           3|       3|             3|   false|           null|        1|   CHIEF|                   6|                   4|                  5|Pacific Heights|(37.7895840679362...|020110016-B02|              3.05|\n",
      "|   20110016|    B04|        2003235|  Structure Fire|01/11/2002|01/10/2002|               Other|01/11/2002 01:51:...|2000 Block of CAL...|  SF|              94109|      B04|          38|3362|           3|       3|             3|   false|           null|        1|   CHIEF|                   3|                   4|                  5|Pacific Heights|(37.7895840679362...|020110016-B04| 2.316666666666667|\n",
      "|   20110016|     D2|        2003235|  Structure Fire|01/11/2002|01/10/2002|               Other|01/11/2002 01:47:...|2000 Block of CAL...|  SF|              94109|      B04|          38|3362|           3|       3|             3|   false|           null|        1|   CHIEF|                   4|                   4|                  5|Pacific Heights|(37.7895840679362...| 020110016-D2|3.0166666666666666|\n",
      "|   20110016|    E03|        2003235|  Structure Fire|01/11/2002|01/10/2002|               Other|01/11/2002 01:47:...|2000 Block of CAL...|  SF|              94109|      B04|          38|3362|           3|       3|             3|   false|           null|        1|  ENGINE|                   7|                   4|                  5|Pacific Heights|(37.7895840679362...|020110016-E03| 2.683333333333333|\n",
      "|   20110016|    E38|        2003235|  Structure Fire|01/11/2002|01/10/2002|               Other|01/11/2002 01:51:...|2000 Block of CAL...|  SF|              94109|      B04|          38|3362|           3|       3|             3|   false|           null|        1|  ENGINE|                   1|                   4|                  5|Pacific Heights|(37.7895840679362...|020110016-E38|               2.1|\n",
      "|   20110016|    E41|        2003235|  Structure Fire|01/11/2002|01/10/2002|               Other|01/11/2002 01:47:...|2000 Block of CAL...|  SF|              94109|      B04|          38|3362|           3|       3|             3|   false|           null|        1|  ENGINE|                   8|                   4|                  5|Pacific Heights|(37.7895840679362...|020110016-E41| 2.716666666666667|\n",
      "+-----------+-------+---------------+----------------+----------+----------+--------------------+--------------------+--------------------+----+-------------------+---------+------------+----+------------+--------+--------------+--------+---------------+---------+--------+--------------------+--------------------+-------------------+---------------+--------------------+-------------+------------------+\n",
      "only showing top 10 rows\n",
      "\n"
     ]
    }
   ],
   "source": [
    "fire_df = spark.read \\\n",
    "                    .format(\"csv\") \\\n",
    "                    .option(\"headers\", \"true\") \\\n",
    "                    .option(\"inferSchema\", \"true\") \\\n",
    "                    .load(\"sf-fire-calls.csv\")\n",
    "\n",
    "fire_df.show(10)"
   ]
  },
  {
   "cell_type": "code",
   "execution_count": null,
   "metadata": {},
   "outputs": [],
   "source": []
  }
 ],
 "metadata": {
  "application/vnd.databricks.v1+notebook": {
   "computePreferences": null,
   "dashboards": [],
   "environmentMetadata": {
    "base_environment": "",
    "client": "1"
   },
   "language": "python",
   "notebookMetadata": {
    "mostRecentlyExecutedCommandWithImplicitDF": {
     "commandId": 3089522894963634,
     "dataframes": [
      "_sqldf"
     ]
    },
    "pythonIndentUnit": 4
   },
   "notebookName": "Fire Safety Calls",
   "widgets": {}
  },
  "kernelspec": {
   "display_name": ".venv",
   "language": "python",
   "name": "python3"
  },
  "language_info": {
   "codemirror_mode": {
    "name": "ipython",
    "version": 3
   },
   "file_extension": ".py",
   "mimetype": "text/x-python",
   "name": "python",
   "nbconvert_exporter": "python",
   "pygments_lexer": "ipython3",
   "version": "3.10.11"
  }
 },
 "nbformat": 4,
 "nbformat_minor": 0
}
